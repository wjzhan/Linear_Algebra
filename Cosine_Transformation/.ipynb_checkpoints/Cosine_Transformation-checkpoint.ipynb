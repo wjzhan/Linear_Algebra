{
 "cells": [
  {
   "cell_type": "markdown",
   "id": "third-fundamentals",
   "metadata": {},
   "source": [
    "## Set Environment"
   ]
  },
  {
   "cell_type": "code",
   "execution_count": 1,
   "id": "average-friendly",
   "metadata": {},
   "outputs": [],
   "source": [
    "import sys\n",
    "import numpy as np\n",
    "import math\n",
    "import os\n",
    "\n",
    "import matplotlib\n",
    "matplotlib.use('TkAgg')\n",
    "import matplotlib.pyplot as plt\n",
    "from IPython.display import display"
   ]
  },
  {
   "cell_type": "markdown",
   "id": "alert-malaysia",
   "metadata": {},
   "source": [
    "## Functions"
   ]
  },
  {
   "cell_type": "code",
   "execution_count": 2,
   "id": "educated-spain",
   "metadata": {},
   "outputs": [],
   "source": [
    "def plot_wave(x):\n",
    "    plt.gcf().clear()\n",
    "    plt.plot(x)\n",
    "    plt.xlabel('n')\n",
    "    plt.ylabel('xn')\n",
    "    plt.show()\n",
    "    \n",
    "\n",
    "def plot_ak(a):\n",
    "    plt.gcf().clear()\n",
    "\n",
    "    # Only plot the mag of a\n",
    "    a = np.abs(a)\n",
    "    plt.plot(a)\n",
    "    plt.xlabel('k')\n",
    "    plt.ylabel('ak')\n",
    "    plt.show()\n",
    "    \n",
    "\n",
    "def CosineTrans(x, B):\n",
    "    # implement cosine transform\n",
    "    inv_B = np.linalg.inv(B)\n",
    "    a = inv_B @ x\n",
    "    return a\n",
    "\n",
    "def InvCosineTrans(a, B):\n",
    "    # implement inverse cosine transform\n",
    "    x = B @ a\n",
    "    return x\n",
    "\n",
    "def gen_basis(N):\n",
    "    # Cosine Transformation\n",
    "    C = math.sqrt(2)/math.sqrt(N)\n",
    "    PI = math.pi\n",
    "    B = np.array([[1/math.sqrt(N) for i in range(N)]])\n",
    "    \n",
    "    for k in range(1, N):\n",
    "        b = []\n",
    "        for n in range(N):\n",
    "            elem = C * math.cos((n + 0.5) * k * PI / N)\n",
    "            b.append(elem)\n",
    "        B = np.vstack([B, b])\n",
    "    return B.T\n"
   ]
  },
  {
   "cell_type": "markdown",
   "id": "armed-transfer",
   "metadata": {},
   "source": [
    "### If modulize as independent file\n",
    "```python\n",
    "def plot_wave(x, path = './wave.png'):\n",
    "    plt.gcf().clear()\n",
    "    plt.plot(x)\n",
    "    plt.xlabel('n')\n",
    "    plt.ylabel('xn')\n",
    "    plt.savefig(path)\n",
    "\n",
    "def plot_ak(a, path = './freq.png'):\n",
    "    plt.gcf().clear()\n",
    "    # Only plot the mag of a\n",
    "    a = np.abs(a)\n",
    "    plt.plot(a)\n",
    "    plt.xlabel('k')\n",
    "    plt.ylabel('ak')\n",
    "    plt.savefig(path)\n",
    "\n",
    "if __name__ == '__main__':\n",
    "    signal_path = sys.argv[1]\n",
    "    out_directory_path = sys.argv[2]\n",
    "    \n",
    "    # do the transformation\n",
    "    \n",
    "    plot_ak(a, path=os.path.join(output_path, '1.png'))\n",
    "    plot_wave(f1, path=os.path.join(output_path, '2.png'))\n",
    "    plot_wave(f3, path=os.path.join(output_path, '3.png'))\n",
    "```"
   ]
  },
  {
   "cell_type": "markdown",
   "id": "tropical-bundle",
   "metadata": {},
   "source": [
    "## Load Data"
   ]
  },
  {
   "cell_type": "code",
   "execution_count": 3,
   "id": "recovered-eight",
   "metadata": {},
   "outputs": [],
   "source": [
    "x = np.loadtxt('test.txt', dtype = np.float32).reshape(-1, 1)\n",
    "plot_wave(x)"
   ]
  },
  {
   "cell_type": "code",
   "execution_count": 4,
   "id": "aging-cinema",
   "metadata": {},
   "outputs": [],
   "source": [
    "# Basis set\n",
    "N = len(x)\n",
    "B = gen_basis(N)\n",
    "a = CosineTrans(x, B)\n",
    "plot_ak(a)"
   ]
  },
  {
   "cell_type": "code",
   "execution_count": 5,
   "id": "preceding-longer",
   "metadata": {},
   "outputs": [],
   "source": [
    "a = np.abs(a)\n",
    "desc_index = np.argsort(a.flatten())[::-1]\n",
    "idx_1 = desc_index[0]\n",
    "idx_3 = desc_index[2]\n",
    "#construct filtering input \n",
    "gen_a_1 = [[0] for i in range(N)]\n",
    "gen_a_1[idx_1] = [1]\n",
    "gen_a_3 = [[0] for i in range(N)]\n",
    "gen_a_3[idx_3] = [1]"
   ]
  },
  {
   "cell_type": "code",
   "execution_count": 6,
   "id": "extended-perth",
   "metadata": {},
   "outputs": [],
   "source": [
    "freq1 = InvCosineTrans(gen_a_1, B)\n",
    "plot_wave(freq1)"
   ]
  },
  {
   "cell_type": "code",
   "execution_count": 7,
   "id": "governmental-assembly",
   "metadata": {},
   "outputs": [],
   "source": [
    "freq3 = InvCosineTrans(gen_a_3, B)\n",
    "plot_wave(freq3)"
   ]
  },
  {
   "cell_type": "code",
   "execution_count": null,
   "id": "absolute-arcade",
   "metadata": {},
   "outputs": [],
   "source": []
  }
 ],
 "metadata": {
  "kernelspec": {
   "display_name": "Python 3",
   "language": "python",
   "name": "python3"
  },
  "language_info": {
   "codemirror_mode": {
    "name": "ipython",
    "version": 3
   },
   "file_extension": ".py",
   "mimetype": "text/x-python",
   "name": "python",
   "nbconvert_exporter": "python",
   "pygments_lexer": "ipython3",
   "version": "3.8.5"
  }
 },
 "nbformat": 4,
 "nbformat_minor": 5
}

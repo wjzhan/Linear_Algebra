{
 "cells": [
  {
   "cell_type": "markdown",
   "metadata": {
    "id": "fG5eWPpO3cMC"
   },
   "source": [
    "# Linear Regression "
   ]
  },
  {
   "cell_type": "code",
   "execution_count": 4,
   "metadata": {},
   "outputs": [],
   "source": [
    "# import os\n",
    "\n",
    "# %cd /content\n",
    "\n",
    "# if not os.path.isdir(\"LinearAlgebra\"): \n",
    "#     !git clone 'https://github.com/wjzhan/Linear_Algebra'\n",
    "\n",
    "# %cd LinearAlgebra\n",
    "\n",
    "# !ls -R  # check if the data is loaded"
   ]
  },
  {
   "cell_type": "code",
   "execution_count": 3,
   "metadata": {
    "colab": {
     "base_uri": "https://localhost:8080/"
    },
    "id": "704u5TQe18cj",
    "outputId": "aa625dd1-84d6-4af7-ef9b-df94659c8f23"
   },
   "outputs": [
    {
     "name": "stdout",
     "output_type": "stream",
     "text": [
      "N =  1 --> train_loss =  17.5872\tvalid_loss =  14.7460\n",
      "N =  2 --> train_loss =  16.4034\tvalid_loss =  14.8405\n",
      "N =  3 --> train_loss =  16.2937\tvalid_loss =  14.8570\n",
      "N =  4 --> train_loss =  15.9420\tvalid_loss =  13.8083\n",
      "N =  5 --> train_loss =  15.8537\tvalid_loss =  13.9220\n",
      "N =  6 --> train_loss =  15.7986\tvalid_loss =  13.9169\n",
      "N =  7 --> train_loss =  15.7327\tvalid_loss =  14.0787\n",
      "N =  8 --> train_loss =  15.6603\tvalid_loss =  14.2146\n",
      "N =  9 --> train_loss =  15.6452\tvalid_loss =  14.6720\n",
      "N = 10 --> train_loss =  15.5920\tvalid_loss =  14.7869\n",
      "N = 11 --> train_loss =  15.5329\tvalid_loss =  14.5714\n",
      "N = 12 --> train_loss =  15.4637\tvalid_loss =  14.3634\n",
      "N = 13 --> train_loss =  15.3529\tvalid_loss =  14.4540\n",
      "N = 14 --> train_loss =  15.2762\tvalid_loss =  14.4492\n",
      "N = 15 --> train_loss =  15.2199\tvalid_loss =  14.5193\n",
      "N = 16 --> train_loss =  15.1699\tvalid_loss =  14.5693\n",
      "N = 17 --> train_loss =  15.1450\tvalid_loss =  14.5481\n",
      "N = 18 --> train_loss =  15.0938\tvalid_loss =  14.5307\n",
      "N = 19 --> train_loss =  15.0083\tvalid_loss =  14.7082\n",
      "N = 20 --> train_loss =  14.9709\tvalid_loss =  14.7997\n",
      "N = 21 --> train_loss =  14.8945\tvalid_loss =  15.0967\n",
      "N = 22 --> train_loss =  14.8102\tvalid_loss =  15.8083\n",
      "N = 23 --> train_loss =  14.7662\tvalid_loss =  16.2646\n",
      "N = 24 --> train_loss =  14.7179\tvalid_loss =  16.3508\n",
      "N = 25 --> train_loss =  14.6389\tvalid_loss =  16.6142\n",
      "N = 26 --> train_loss =  14.6027\tvalid_loss =  17.3818\n",
      "N = 27 --> train_loss =  14.5273\tvalid_loss =  17.3907\n",
      "N = 28 --> train_loss =  14.5203\tvalid_loss =  16.3854\n",
      "N = 29 --> train_loss =  14.4786\tvalid_loss =  16.6457\n",
      "N = 30 --> train_loss =  14.4293\tvalid_loss =  16.8893\n",
      "data/test_20.csv is required for prediction! Please go to \n",
      "https://colab.research.google.com/github/jeffeuxMartin/LinearAlgebraHW5/blob/main/LAHW5_colab.ipynb\n",
      "and download it...\n"
     ]
    }
   ],
   "source": [
    "!python main.py"
   ]
  },
  {
   "cell_type": "markdown",
   "metadata": {
    "id": "VlxbxMh7UAfn"
   },
   "source": [
    "# Download Test File"
   ]
  },
  {
   "cell_type": "code",
   "execution_count": 3,
   "metadata": {
    "cellView": "form",
    "colab": {
     "base_uri": "https://localhost:8080/",
     "height": 93
    },
    "id": "Bqiza1EYkeWw",
    "outputId": "fc27af50-4b93-42c1-e9a5-1f73299e58e8"
   },
   "outputs": [
    {
     "name": "stdout",
     "output_type": "stream",
     "text": [
      "Your `N` is chosen to be \u001b[01;31m 20\u001b[0m...\n",
      "\n"
     ]
    },
    {
     "data": {
      "text/html": [
       "\n",
       "    <p>\n",
       "        <button id='buttond'>Download</button>\n",
       "        &emsp;\n",
       "        <button id='buttonu'>Upload</button>\n",
       "        <script>\n",
       "            document.querySelector('#buttond').onclick = () => {\n",
       "            google.colab.kernel.invokeFunction('notebook.uploader', [], {});\n",
       "            };\n",
       "            document.querySelector('#buttonu').onclick = () => {\n",
       "            google.colab.kernel.invokeFunction('notebook.downloader', [], {});\n",
       "            };\n",
       "        </script>\n",
       "        <br />\n",
       "    </p>\n",
       "    "
      ],
      "text/plain": [
       "<IPython.core.display.HTML object>"
      ]
     },
     "metadata": {},
     "output_type": "display_data"
    }
   ],
   "source": [
    "#@title Try to obtain testing data! {run: \"auto\"}\n",
    "import IPython\n",
    "from IPython.display import clear_output\n",
    "from google.colab import files, output\n",
    "from IPython.utils import traitlets as _traitlets\n",
    "\n",
    "N =  20# @param { type: \"integer\" }\n",
    "N = int(N)\n",
    "\n",
    "assert N > 0, \"N needs to be positive!\"\n",
    "\n",
    "print(f\"Your `N` is chosen to be \\033[01;31m {N}\\033[0m...\")\n",
    "\n",
    "print()\n",
    "\n",
    "display(IPython.display.HTML('''\n",
    "    <p>\n",
    "        <button id='buttond'>Download</button>\n",
    "        &emsp;\n",
    "        <button id='buttonu'>Upload</button>\n",
    "        <script>\n",
    "            document.querySelector('#buttond').onclick = () => {\n",
    "            google.colab.kernel.invokeFunction('notebook.uploader', [], {});\n",
    "            };\n",
    "            document.querySelector('#buttonu').onclick = () => {\n",
    "            google.colab.kernel.invokeFunction('notebook.downloader', [], {});\n",
    "            };\n",
    "        </script>\n",
    "        <br />\n",
    "    </p>\n",
    "    '''))\n",
    "\n",
    "\n",
    "def download():\n",
    "    try:\n",
    "        fname_dict = files.upload()\n",
    "        clear_output()\n",
    "        test_file = list(fname_dict.keys())[0]\n",
    "        obtained_file = !mktemp\n",
    "        obtained_file = obtained_file[0]\n",
    "        !wget -q -O \"{obtained_file}\" https://gist.github.com/jeffeuxMartin/72e7880135b7913245206b7ffe7071f3/raw/d19a39c2b1abdc8c98e36a0ff0f8dfd80944d1ff/judge_file.sh?f=qeiprughqpeiuwfdpiowe\n",
    "        !bash \"{obtained_file}\" {N} \"{test_file}\"\n",
    "        !rm -f \"{obtained_file}\"\n",
    "    except:\n",
    "        pass\n",
    "\n",
    "def upload():\n",
    "    test_file = f\"test_{N}.csv\"\n",
    "    obtained_file = !mktemp\n",
    "    obtained_file = obtained_file[0]\n",
    "    !wget -q -O \"{obtained_file}\" https://gist.github.com/jeffeuxMartin/72e7880135b7913245206b7ffe7071f3/raw/99998651a30172f9ea080f8b3fa7bf0d879b26b4/obtain_file.sh?f=qeiprughqpeiuwfdpiowe\n",
    "    !bash \"{obtained_file}\" {N} \"{test_file}\"\n",
    "    !rm -f \"{obtained_file}\"\n",
    "    files.download(test_file)\n",
    "\n",
    "output.register_callback('notebook.uploader', upload)\n",
    "output.register_callback('notebook.downloader', download)"
   ]
  }
 ],
 "metadata": {
  "colab": {
   "collapsed_sections": [],
   "include_colab_link": true,
   "name": "LAHW5_colab",
   "provenance": []
  },
  "kernelspec": {
   "display_name": "Python 3 (ipykernel)",
   "language": "python",
   "name": "python3"
  },
  "language_info": {
   "codemirror_mode": {
    "name": "ipython",
    "version": 3
   },
   "file_extension": ".py",
   "mimetype": "text/x-python",
   "name": "python",
   "nbconvert_exporter": "python",
   "pygments_lexer": "ipython3",
   "version": "3.9.13"
  }
 },
 "nbformat": 4,
 "nbformat_minor": 4
}

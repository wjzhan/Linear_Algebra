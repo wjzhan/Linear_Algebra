{
 "cells": [
  {
   "cell_type": "markdown",
   "id": "sunset-running",
   "metadata": {},
   "source": [
    "## Set Up Environment"
   ]
  },
  {
   "cell_type": "code",
   "execution_count": 44,
   "id": "mediterranean-complexity",
   "metadata": {},
   "outputs": [],
   "source": [
    "import numpy as np\n",
    "import json\n",
    "import sys"
   ]
  },
  {
   "cell_type": "code",
   "execution_count": 57,
   "id": "conscious-villa",
   "metadata": {},
   "outputs": [],
   "source": [
    "input_path = 'summary2.json'\n",
    "output_path = 'my_answer2.json'\n",
    "m = 0.15\n",
    "N = 50"
   ]
  },
  {
   "cell_type": "markdown",
   "id": "pointed-oracle",
   "metadata": {},
   "source": [
    "## Load File"
   ]
  },
  {
   "cell_type": "code",
   "execution_count": 58,
   "id": "intensive-stamp",
   "metadata": {},
   "outputs": [],
   "source": [
    "#read the file\n",
    "link = []\n",
    "with open(input_path,\"r\") as f:\n",
    "    link=json.load(f)"
   ]
  },
  {
   "cell_type": "markdown",
   "id": "conventional-heaven",
   "metadata": {},
   "source": [
    "## Matrix Preparation"
   ]
  },
  {
   "cell_type": "code",
   "execution_count": 59,
   "id": "ecological-explanation",
   "metadata": {},
   "outputs": [],
   "source": [
    "#initialize original transition matrix\n",
    "original_transition = np.zeros((len(link),len(link)))\n",
    "for i in range(len(link)):\n",
    "    for o in link[i]:\n",
    "        original_transition[i][o] = 1"
   ]
  },
  {
   "cell_type": "code",
   "execution_count": 60,
   "id": "ceramic-corporation",
   "metadata": {},
   "outputs": [
    {
     "name": "stdout",
     "output_type": "stream",
     "text": [
      "Original transition matrix [[0. 0. 0. ... 0. 0. 0.]\n",
      " [0. 0. 0. ... 0. 0. 0.]\n",
      " [0. 0. 0. ... 0. 0. 0.]\n",
      " ...\n",
      " [0. 0. 0. ... 0. 0. 0.]\n",
      " [0. 0. 0. ... 0. 0. 0.]\n",
      " [0. 0. 0. ... 0. 0. 0.]]\n"
     ]
    }
   ],
   "source": [
    "#normalize original transition matrix, avoid devide by 0.\n",
    "totallink = np.sum(original_transition,axis=0)\n",
    "for i in range(len(link)):\n",
    "    if(totallink[i] == 0):\n",
    "        totallink[i] = 1\n",
    "original_transition = original_transition / totallink\n",
    "\n",
    "print(\"Original transition matrix\", original_transition)\n",
    "\n",
    "initial_vector = np.ones(len(link))/len(link)"
   ]
  },
  {
   "cell_type": "markdown",
   "id": "patent-muslim",
   "metadata": {},
   "source": [
    "## Pagerank Algorithm\n",
    "- M = (1-m)A + mS\n",
    "\n",
    "A is original transition matrix, \n",
    "S is stochastic matrix"
   ]
  },
  {
   "cell_type": "code",
   "execution_count": 61,
   "id": "chinese-compatibility",
   "metadata": {},
   "outputs": [],
   "source": [
    "for i in range(len(link)):\n",
    "    original_transition[i] = (1-m)*original_transition[i] + m*initial_vector"
   ]
  },
  {
   "cell_type": "code",
   "execution_count": 62,
   "id": "adapted-palace",
   "metadata": {},
   "outputs": [],
   "source": [
    "updated_vector = initial_vector\n",
    "for j in range(N):\n",
    "    updated_vector = original_transition @ updated_vector"
   ]
  },
  {
   "cell_type": "code",
   "execution_count": 63,
   "id": "accepted-directory",
   "metadata": {},
   "outputs": [
    {
     "name": "stdout",
     "output_type": "stream",
     "text": [
      "Your current answer [  4   6 223 229   2  35  54 242 138 246  37 196 116 274 114 155 111 131\n",
      " 192 257 121 127 276 184 102 103 285 106  67  11 253 185 202  31  16 180\n",
      " 156 254  58 267 256 126 273 233 264  15 135  40 118  90 266  68  44 281\n",
      " 119 226 165 212 177  65 215 207 252  24 133 241 161 203   1 188 130  41\n",
      " 143  42 277  53 249 173  55 100 219 214 136  83 268 164  43 149  97 144\n",
      " 157  10 209 224 230 297  93  81 247 280 158  85  12  56 178 213  52  79\n",
      "  71 234 112 159   3 270 198 295 269 206 186 263 139  19  63 191 236  86\n",
      " 101 117 265 288  21 145  89 166  61  70  29 134 124 104 172 235 193 194\n",
      "  13  48 171 251  20 299 201  17 227  28  96  39  22 279 108  36 239  23\n",
      "  50 296 179 200 125 170 154 221 248  47 147 232  66 250 141 195 128  33\n",
      " 293  76 260 140 283 243  18 162 182 217 259 210 284 148 160 129 294 225\n",
      " 222   8 123   5 228  57  95  82  25  84 150 291 115 211  92 282  30 287\n",
      " 175  88 218  80  87  14  49  62  99 109 122 204  26 278  98 153 113 286\n",
      "  74   0 237 290 169 262 208 275  60  69  51  34  78 183 107 190 245  77\n",
      " 176 189 137 258 187 151 163   9   7 289 272  46 220  38 105  72 152 174\n",
      " 231 197  64 181 271 146 298 261 167 292  94 168 244  75 240 205  45 120\n",
      " 132 199 142 255 216  91  59  73  32 110  27 238]\n"
     ]
    }
   ],
   "source": [
    "ordering_of_websites = np.argsort(-1 * updated_vector)\n",
    "print(\"Your current answer\",ordering_of_websites)\n",
    "\n",
    "#turn your answer from a numpy array to list and output it as a json file\n",
    "ordering_of_websites = ordering_of_websites.tolist()\n",
    "with open(output_path,\"w\") as f:\n",
    "    json.dump(ordering_of_websites,f)"
   ]
  }
 ],
 "metadata": {
  "kernelspec": {
   "display_name": "Python 3",
   "language": "python",
   "name": "python3"
  },
  "language_info": {
   "codemirror_mode": {
    "name": "ipython",
    "version": 3
   },
   "file_extension": ".py",
   "mimetype": "text/x-python",
   "name": "python",
   "nbconvert_exporter": "python",
   "pygments_lexer": "ipython3",
   "version": "3.8.5"
  }
 },
 "nbformat": 4,
 "nbformat_minor": 5
}

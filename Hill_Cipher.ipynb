{
 "cells": [
  {
   "cell_type": "markdown",
   "id": "latin-frame",
   "metadata": {},
   "source": [
    "## Set Up Environment"
   ]
  },
  {
   "cell_type": "code",
   "execution_count": 6,
   "id": "constitutional-species",
   "metadata": {},
   "outputs": [],
   "source": [
    "import numpy as np"
   ]
  },
  {
   "cell_type": "markdown",
   "id": "checked-people",
   "metadata": {},
   "source": [
    "## Set Up Global Variable"
   ]
  },
  {
   "cell_type": "code",
   "execution_count": 7,
   "id": "cross-opinion",
   "metadata": {},
   "outputs": [],
   "source": [
    "LETTERS = 'ABCDEFGHIJKLMNOPQRSTUVWXYZ_.,?!'"
   ]
  },
  {
   "cell_type": "code",
   "execution_count": 41,
   "id": "whole-isolation",
   "metadata": {},
   "outputs": [],
   "source": [
    "def text_to_array(text):\n",
    "    arr = [LETTERS.index(i) for i in text]\n",
    "    return np.reshape(arr, (-1, 3)).T\n",
    "\n",
    "def key_to_array(key):\n",
    "    arr = [int(k) for k in key.split()]\n",
    "    return np.reshape(arr, (3, 3))\n",
    "\n",
    "\n",
    "# key should be a numpy array\n",
    "def mod_inv(key):\n",
    "    '''\n",
    "    Modular inverse. Only for mod 31.\n",
    "    Modular inverse \n",
    "    (A)^-1 = (det A)^-1 * adj(A) (mod 31)\n",
    "           = ((det A)^-1 % 31 *  adj(A) % 31) (mod 31)\n",
    "    Fermat's Little Therom\n",
    "    a^(p-1) Congruence 1\n",
    "    a^(p-2) Congruence 1/a\n",
    "    https://aaron67.cc/2020/05/30/modular-multiplicative-inverse/\n",
    "    Arguments:\n",
    "        key: a 2-D numpy array\n",
    "\n",
    "    Return:\n",
    "        modinv: modular inverse of key\n",
    "    '''\n",
    "    det = int(round(np.linalg.det(key)))    # determinant of key\n",
    "    adj = np.linalg.inv(key) * det          # adjugate matrix of key\n",
    "    # getting modadj is omitted since it won't change the result\n",
    "    assert det % 31 != 0\n",
    "    moddet = np.mod(det ** 29, 31)          # Fermat's Little Theorem\n",
    "    modinv = np.around(np.mod(adj * moddet, 31)).astype(int)\n",
    "    return modinv\n",
    "\n",
    "\n",
    "def gen_cipher(plain_text, key):\n",
    "    plain_arr = text_to_array(plain_text)\n",
    "    key_arr = key_to_array(key)\n",
    "    return np.mod(key_arr @ plain_arr, 31)\n",
    "\n",
    "def array_to_text(id_arr):\n",
    "    text_arr = []\n",
    "    for p in id_arr.T.flatten():\n",
    "        text_arr.append(LETTERS[p])\n",
    "    return ''.join(text_arr)"
   ]
  },
  {
   "cell_type": "markdown",
   "id": "australian-impression",
   "metadata": {},
   "source": [
    "## Test\n",
    "- given cipher text and key, decipher plain text\n",
    "- given cipher text and plain text, retrive public key, and use same key to decode anotehr cipher"
   ]
  },
  {
   "cell_type": "code",
   "execution_count": 44,
   "id": "comic-socket",
   "metadata": {},
   "outputs": [],
   "source": [
    "plain = 'IS_THAT_W'\n",
    "key = '25 8 25 9 9 16 28 21 18'\n",
    "cipher = gen_cipher(plain, key)"
   ]
  },
  {
   "cell_type": "markdown",
   "id": "functional-advocacy",
   "metadata": {},
   "source": [
    "### test 1"
   ]
  },
  {
   "cell_type": "code",
   "execution_count": 43,
   "id": "passive-printer",
   "metadata": {},
   "outputs": [
    {
     "data": {
      "text/plain": [
       "'IS_THAT_W'"
      ]
     },
     "execution_count": 43,
     "metadata": {},
     "output_type": "execute_result"
    }
   ],
   "source": [
    "key_arr = key_to_array(key) \n",
    "inv_key = mod_inv(key_arr)\n",
    "gen_plain = np.mod(inv_key@cipher, 31)\n",
    "array_to_text(gen_plain)"
   ]
  },
  {
   "cell_type": "markdown",
   "id": "sapphire-ambassador",
   "metadata": {},
   "source": [
    "### test 2\n",
    "- if input longer than 9, split into segments of 9 letters. Matrix can be segmented as well."
   ]
  },
  {
   "cell_type": "code",
   "execution_count": 45,
   "id": "cubic-amber",
   "metadata": {},
   "outputs": [],
   "source": [
    "plain_arr = text_to_array(plain)\n",
    "inv_plain = mod_inv(plain_arr)\n",
    "pub_key = np.mod(cipher @ inv_plain, 31)"
   ]
  },
  {
   "cell_type": "code",
   "execution_count": 48,
   "id": "dietary-thriller",
   "metadata": {},
   "outputs": [
    {
     "data": {
      "text/plain": [
       "array([[25,  8, 25],\n",
       "       [ 9,  9, 16],\n",
       "       [28, 21, 18]])"
      ]
     },
     "execution_count": 48,
     "metadata": {},
     "output_type": "execute_result"
    }
   ],
   "source": [
    "pub_key"
   ]
  },
  {
   "cell_type": "code",
   "execution_count": 38,
   "id": "personal-entity",
   "metadata": {},
   "outputs": [
    {
     "data": {
      "text/plain": [
       "array([[25,  8, 25],\n",
       "       [ 9,  9, 16],\n",
       "       [28, 21, 18]])"
      ]
     },
     "execution_count": 38,
     "metadata": {},
     "output_type": "execute_result"
    }
   ],
   "source": [
    "key_arr"
   ]
  },
  {
   "cell_type": "code",
   "execution_count": null,
   "id": "sapphire-clone",
   "metadata": {},
   "outputs": [],
   "source": []
  }
 ],
 "metadata": {
  "kernelspec": {
   "display_name": "Python 3",
   "language": "python",
   "name": "python3"
  },
  "language_info": {
   "codemirror_mode": {
    "name": "ipython",
    "version": 3
   },
   "file_extension": ".py",
   "mimetype": "text/x-python",
   "name": "python",
   "nbconvert_exporter": "python",
   "pygments_lexer": "ipython3",
   "version": "3.8.5"
  }
 },
 "nbformat": 4,
 "nbformat_minor": 5
}

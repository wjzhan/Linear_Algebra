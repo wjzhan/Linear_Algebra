{
 "cells": [
  {
   "cell_type": "markdown",
   "metadata": {
    "id": "fG5eWPpO3cMC"
   },
   "source": [
    "# **cycle detection** "
   ]
  },
  {
   "cell_type": "markdown",
   "metadata": {
    "id": "U-v50H6WGJhZ"
   },
   "source": [
    "# Set up the environment\n",
    "### This command will only need to be executed once"
   ]
  },
  {
   "cell_type": "code",
   "execution_count": 1,
   "metadata": {
    "colab": {
     "base_uri": "https://localhost:8080/"
    },
    "id": "g9Ve1AwVGJha",
    "outputId": "3f617278-3df1-4c2c-dfe8-9bf0d862ee59"
   },
   "outputs": [
    {
     "name": "stdout",
     "output_type": "stream",
     "text": [
      "Requirement already satisfied: networkx in /Users/zhanzhan3/miniconda3/lib/python3.8/site-packages (2.8.5)\n",
      "Requirement already satisfied: scipy in /Users/zhanzhan3/miniconda3/lib/python3.8/site-packages (1.8.1)\n",
      "Requirement already satisfied: numpy<1.25.0,>=1.17.3 in /Users/zhanzhan3/miniconda3/lib/python3.8/site-packages (from scipy) (1.19.2)\n"
     ]
    }
   ],
   "source": [
    "!pip install networkx\n",
    "!pip install scipy"
   ]
  },
  {
   "cell_type": "code",
   "execution_count": 2,
   "metadata": {
    "id": "mzptxDlwehho"
   },
   "outputs": [],
   "source": [
    "import numpy as np\n",
    "import time\n",
    "import networkx as nx"
   ]
  },
  {
   "cell_type": "markdown",
   "metadata": {
    "id": "ycLGRNVLZ8B4"
   },
   "source": [
    "# Generate graph\n",
    "You don't need to handle the code here"
   ]
  },
  {
   "cell_type": "code",
   "execution_count": 3,
   "metadata": {
    "cellView": "form",
    "id": "j-2ujLEJbPTt"
   },
   "outputs": [],
   "source": [
    "#@title\n",
    "def gen_graph(node_num, edge_num):\n",
    "    graph = list()\n",
    "    rec = list()\n",
    "    for _ in range(edge_num):\n",
    "        while True:\n",
    "            edge = np.random.randint(0, node_num, 2)\n",
    "            if edge[0] != edge[1]:\n",
    "                if len(rec) == 0:\n",
    "                    rec.append('{} {}'.format(edge[0], edge[1]))\n",
    "                else:\n",
    "                    if '{} {}'.format(edge[0], edge[1]) not in rec:\n",
    "                        graph.append(edge.tolist())\n",
    "                        rec.append('{} {}'.format(edge[0], edge[1]))\n",
    "\n",
    "                break\n",
    "    return graph\n",
    "\n",
    "def convert_p1(graph_list):\n",
    "    p1_list = list()\n",
    "    for graph in graph_list:\n",
    "        node_num = np.max(graph)+1\n",
    "        p1_matrix = list()\n",
    "        for x, y in graph:\n",
    "            row = [0] * node_num\n",
    "            row[x] = -1\n",
    "            row[y] = 1\n",
    "            p1_matrix.append(row)\n",
    "        p1_list.append(p1_matrix)\n",
    "    return p1_list\n",
    "\n",
    "def convert_p2(graph_list):\n",
    "    p2_list = list()\n",
    "    for graph in graph_list:\n",
    "        node_num = np.max(graph)+1\n",
    "        p2_matrix = np.zeros((node_num, node_num), dtype=int).tolist()\n",
    "        for x, y in graph:\n",
    "            p2_matrix[x][y] = 1\n",
    "        p2_list.append(p2_matrix)\n",
    "    return p2_list"
   ]
  },
  {
   "cell_type": "markdown",
   "metadata": {
    "id": "ZS93o3ptd_J-"
   },
   "source": [
    "### **Modify the number of nodes and edges here!**"
   ]
  },
  {
   "cell_type": "code",
   "execution_count": 4,
   "metadata": {
    "id": "PQNF7DhycGuT"
   },
   "outputs": [],
   "source": [
    "def gen_graph_list(size):\n",
    "    graph_list = list()\n",
    "    for _ in range(size):\n",
    "    # ---------------------------------------------------------------------------- #\n",
    "    #     Modify the number of nodes and edges here           #\n",
    "    # ---------------------------------------------------------------------------- #\n",
    "        node_num = np.random.randint(20, 60)\n",
    "        edge_num = np.random.randint(10, 50)\n",
    "        graph_list.append(gen_graph(node_num, edge_num))\n",
    "    return graph_list"
   ]
  },
  {
   "cell_type": "markdown",
   "metadata": {
    "id": "EB3nfNqudysM"
   },
   "source": [
    "### **Change the number of graph you want to generate here!**"
   ]
  },
  {
   "cell_type": "code",
   "execution_count": 12,
   "metadata": {
    "id": "Dlh_S91NcGoU"
   },
   "outputs": [],
   "source": [
    "def get_p1(seed):\n",
    "    seed = int(seed[2:])\n",
    "    np.random.seed(seed*10+1)\n",
    "    graph_list = gen_graph_list(8)\n",
    "    return graph_list\n",
    "\n",
    "def get_p2(the_seed):\n",
    "    the_seed = int(the_seed[2:])\n",
    "    np.random.seed(the_seed*10+2)\n",
    "    graph_list = gen_graph_list(8)\n",
    "    return graph_list"
   ]
  },
  {
   "cell_type": "markdown",
   "metadata": {
    "id": "tDoBfIuueZGH"
   },
   "source": [
    "# **Cycle detection for p1 and p2**"
   ]
  },
  {
   "cell_type": "code",
   "execution_count": 49,
   "metadata": {
    "id": "4FZZxlHqfF01"
   },
   "outputs": [],
   "source": [
    "from scipy.sparse import *\n",
    "import numpy as np\n",
    "\n",
    "def p1_has_cycle(sets):\n",
    "    # return True if the graph has cycle; return False if not\n",
    "    '''\n",
    "        `print(sets)` to show what the matrix looks like\n",
    "        If we have a directed graph with 2->3 4->1 3->5 5->2 0->1\n",
    "              0  1  2  3  4  5\n",
    "            0  0  0 -1  1  0  0\n",
    "            1  0  1  0  0 -1  0\n",
    "            2  0  0  0 -1  0  1\n",
    "            3  0  0  1  0  0 -1\n",
    "            4 -1  1  0  0  0  0\n",
    "        The size of the matrix is (5,6)\n",
    "        \n",
    "        Logic Here: add row with 1 to the rows with -1 under Same Column.\n",
    "        Then append the newly generated rows to the end while deleting \n",
    "        the first row.\n",
    "        Keep updating until termination 1) find row with all 0, return True\n",
    "        2) the whole matrix has only one row left\n",
    "    '''\n",
    "    graph = np.array(sets)\n",
    "    while graph.shape[0] > 1:\n",
    "        try:\n",
    "            col = np.where(graph[0] == 1)[0][0]\n",
    "            coords = np.where(graph == -1)\n",
    "            if col in coords[1]:\n",
    "                rows = np.where(coords[1] == col)[0]\n",
    "                for row in rows:\n",
    "                    newrow = graph[0] + graph[row]\n",
    "                    # this newrow ends up like a circle\n",
    "                    if sum(newrow) == 0:\n",
    "                        return True\n",
    "                    np.vstack(graph, newrow)\n",
    "            # delete first row\n",
    "            graph = graph[1:]\n",
    "            \n",
    "        except:\n",
    "            # case no 1 exist in the row/edge, indicating row is all \n",
    "            return True\n",
    "            \n",
    "\n",
    "    return False"
   ]
  },
  {
   "cell_type": "markdown",
   "metadata": {
    "id": "9m0v1Ue7MUJP"
   },
   "source": [
    "Please finish the function of **p2_has_cycle()**."
   ]
  },
  {
   "cell_type": "code",
   "execution_count": 58,
   "metadata": {
    "id": "j5g3_FyJfMU-"
   },
   "outputs": [],
   "source": [
    "from scipy.sparse import *\n",
    "import numpy as np\n",
    "\n",
    "def p2_has_cycle(sets):\n",
    "    # TODO\n",
    "    # return True if the graph has cycle; return False if not\n",
    "    '''\n",
    "      HINT: You can `print(sets)` to show what the matrix looks like\n",
    "        If we have a directed graph with 2->3 4->1 3->5 5->2 0->1\n",
    "               0  1  2  3  4  5\n",
    "            0  0  1  0  0  0  0\n",
    "            1  0  0  0  0  0  0\n",
    "            2  0  0  0  1  0  0\n",
    "            3  0  0  0  0  0  1\n",
    "            4  0  1  0  0  0  0\n",
    "            5  0  0  1  0  0  0\n",
    "        The size of the matrix is (6,6)\n",
    "    matrix = graph ^ N where N is number of nodes\n",
    "    if matrix has 1 in diagonal, it has circle\n",
    "    '''\n",
    "    graph = csr_matrix(sets)\n",
    "    num_node = len(sets)\n",
    "    \n",
    "    M = csr_matrix(np.identity(num_node))\n",
    "    for i in range(num_node):\n",
    "        M = M.dot(graph)\n",
    "        if sum(M.diagonal()) > 0:\n",
    "            return True\n",
    "    return False"
   ]
  },
  {
   "cell_type": "markdown",
   "metadata": {},
   "source": [
    "### code from judgeURL\n",
    "```python\n",
    "def p1_main(seed = \"r10\"):\n",
    "    \n",
    "    p1_list = list()\n",
    "    p1_list = get_p1(seed)\n",
    "        \n",
    "    p1_list_converted = convert_p1(p1_list)\n",
    "    start_time = time.time()\n",
    "    for i in range(len(p1_list)):\n",
    "      \n",
    "        # if(i!=230):\n",
    "        #     continue\n",
    "        graph = nx.DiGraph(p1_list[i])\n",
    "        has_cycle = True\n",
    "        try:\n",
    "            res = nx.find_cycle(graph)\n",
    "        except:\n",
    "            has_cycle = False\n",
    "        if p1_has_cycle(p1_list_converted[i]) != has_cycle:\n",
    "            print('Bug in the {}th graph. P1.'.format(i))\n",
    "    print(\"--- Execution time for p1: %7f seconds ---\" % (time.time() - start_time))\n",
    "    \n",
    "    \n",
    "def p2_main(the_seed = \"r10\"):\n",
    "    p2_list = list()\n",
    "    p2_list = get_p2(the_seed)\n",
    "        \n",
    "    p2_list_converted = convert_p2(p2_list)\n",
    "    start_time = time.time()\n",
    "    for i in range(len(p2_list)):\n",
    "        graph = nx.DiGraph(p2_list[i])\n",
    "        has_cycle = True\n",
    "        try:\n",
    "            res = nx.find_cycle(graph)\n",
    "        except:\n",
    "            has_cycle = False\n",
    "        if p2_has_cycle(p2_list_converted[i]) != has_cycle:\n",
    "            print('Bug in the {}th graph. P2.'.format(i))\n",
    "    print(\"--- Execution time for p2: %7f seconds ---\" % (time.time() - start_time))\n",
    "```"
   ]
  },
  {
   "cell_type": "code",
   "execution_count": 70,
   "metadata": {
    "id": "XWmoAq6pc39D"
   },
   "outputs": [],
   "source": [
    "#@title # Main function of p1 and p2\n",
    "#@markdown Run me to get testing code...\n",
    "# # @markdown You should not change the code here.\n",
    "judgeURL = \"https://gist.githubusercontent.com/jeffeuxMartin/13e921442595ac37423b92ab3d51bafe/raw/a33beee8f8180f517c6c05f4a041ef3e73909d10/judge_code__lahw1.py\"\n",
    "\n",
    "import urllib.request\n",
    "with urllib.request.urlopen(judgeURL) as response:\n",
    "    exec(response.read())"
   ]
  },
  {
   "cell_type": "markdown",
   "metadata": {
    "id": "X2hlQ8WlGJhk"
   },
   "source": [
    "# **Testing**"
   ]
  },
  {
   "cell_type": "code",
   "execution_count": 71,
   "metadata": {
    "cellView": "form",
    "id": "yuIjZEGb1usS"
   },
   "outputs": [],
   "source": [
    "#@markdown You can input your student ID as the seed of the random function.\n",
    "#@markdown Feel free to change it to other student IDs to see whether your function works on different graphs.\n",
    "\n",
    "seed_id = \"009901000\" #@param {type: \"string\"}"
   ]
  },
  {
   "cell_type": "code",
   "execution_count": 72,
   "metadata": {},
   "outputs": [
    {
     "name": "stdout",
     "output_type": "stream",
     "text": [
      "Bug in the 3th graph. P1.\n",
      "Bug in the 4th graph. P1.\n",
      "--- Execution time for p1: 0.009450 seconds ---\n"
     ]
    }
   ],
   "source": [
    "p1_main(seed_id)"
   ]
  },
  {
   "cell_type": "code",
   "execution_count": 57,
   "metadata": {
    "colab": {
     "base_uri": "https://localhost:8080/"
    },
    "id": "E5Il0mrXGJhv",
    "outputId": "b828c1a0-45a3-41e2-8362-13d3b248ca38"
   },
   "outputs": [
    {
     "name": "stdout",
     "output_type": "stream",
     "text": [
      "--- Execution time for p2: 0.038456 seconds ---\n"
     ]
    }
   ],
   "source": [
    "p2_main(seed_id)"
   ]
  }
 ],
 "metadata": {
  "colab": {
   "collapsed_sections": [],
   "name": "LA2021_HW1",
   "provenance": [],
   "toc_visible": true
  },
  "kernelspec": {
   "display_name": "Python 3",
   "language": "python",
   "name": "python3"
  },
  "language_info": {
   "codemirror_mode": {
    "name": "ipython",
    "version": 3
   },
   "file_extension": ".py",
   "mimetype": "text/x-python",
   "name": "python",
   "nbconvert_exporter": "python",
   "pygments_lexer": "ipython3",
   "version": "3.8.5"
  }
 },
 "nbformat": 4,
 "nbformat_minor": 1
}

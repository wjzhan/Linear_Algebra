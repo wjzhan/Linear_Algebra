{
 "cells": [
  {
   "cell_type": "markdown",
   "id": "respiratory-chart",
   "metadata": {},
   "source": [
    "#### Create An object\n",
    "- L = np.array([[1,2,1],[3,4,-1]])\n",
    "\n",
    "#### Get the Shape\n",
    "- L.shape\n",
    "\n",
    "#### Return Indices of Maximum Elements\n",
    "- np.argmax(L)\n",
    "\n",
    "#### Return the indices whose values are -1\n",
    "- np.where(L == -1)\n",
    "\n",
    "#### Return the minimum of the matrix\n",
    "- L.min()\n",
    "\n",
    "#### Get all values at diagonal line\n",
    "- L.diagonal()\n",
    "\n",
    "#### Add (with matrix M)\n",
    "- L = L + M\n",
    "\n",
    "#### Delete the first row\n",
    "- L = L[1:]\n",
    "\n",
    "#### Stack\n",
    "- np.vstack((L, newrow))\n",
    "\n",
    "#### Multiplication (with matrix M)\n",
    "- L = np.dot(L, M)"
   ]
  },
  {
   "cell_type": "code",
   "execution_count": 2,
   "id": "headed-gospel",
   "metadata": {},
   "outputs": [],
   "source": [
    "import numpy as np"
   ]
  },
  {
   "cell_type": "code",
   "execution_count": 14,
   "id": "pregnant-fields",
   "metadata": {},
   "outputs": [],
   "source": [
    "L = np.array([[-1,2, 7], [3, 5, -1]])\n",
    "M = np.array([1,-4,0,-1,1,1]).reshape(2,3)"
   ]
  },
  {
   "cell_type": "code",
   "execution_count": 15,
   "id": "laden-fellowship",
   "metadata": {},
   "outputs": [
    {
     "data": {
      "text/plain": [
       "(2, 3)"
      ]
     },
     "execution_count": 15,
     "metadata": {},
     "output_type": "execute_result"
    }
   ],
   "source": [
    "L.shape"
   ]
  },
  {
   "cell_type": "code",
   "execution_count": 16,
   "id": "gross-buffalo",
   "metadata": {},
   "outputs": [
    {
     "data": {
      "text/plain": [
       "2"
      ]
     },
     "execution_count": 16,
     "metadata": {},
     "output_type": "execute_result"
    }
   ],
   "source": [
    "np.argmax(L)"
   ]
  },
  {
   "cell_type": "code",
   "execution_count": 17,
   "id": "accredited-congo",
   "metadata": {},
   "outputs": [
    {
     "data": {
      "text/plain": [
       "(array([0, 1]), array([0, 2]))"
      ]
     },
     "execution_count": 17,
     "metadata": {},
     "output_type": "execute_result"
    }
   ],
   "source": [
    "np.where(L == -1)"
   ]
  },
  {
   "cell_type": "code",
   "execution_count": 18,
   "id": "fabulous-career",
   "metadata": {},
   "outputs": [
    {
     "data": {
      "text/plain": [
       "-1"
      ]
     },
     "execution_count": 18,
     "metadata": {},
     "output_type": "execute_result"
    }
   ],
   "source": [
    "L.min()"
   ]
  },
  {
   "cell_type": "code",
   "execution_count": 19,
   "id": "satisfactory-bacteria",
   "metadata": {},
   "outputs": [
    {
     "data": {
      "text/plain": [
       "array([-1,  5])"
      ]
     },
     "execution_count": 19,
     "metadata": {},
     "output_type": "execute_result"
    }
   ],
   "source": [
    "L.diagonal()"
   ]
  },
  {
   "cell_type": "code",
   "execution_count": 20,
   "id": "handmade-certification",
   "metadata": {},
   "outputs": [
    {
     "data": {
      "text/plain": [
       "array([[ 0, -2,  7],\n",
       "       [ 2,  6,  0]])"
      ]
     },
     "execution_count": 20,
     "metadata": {},
     "output_type": "execute_result"
    }
   ],
   "source": [
    "L + M"
   ]
  },
  {
   "cell_type": "code",
   "execution_count": 21,
   "id": "contrary-bulgarian",
   "metadata": {},
   "outputs": [
    {
     "data": {
      "text/plain": [
       "array([[ 3,  5, -1]])"
      ]
     },
     "execution_count": 21,
     "metadata": {},
     "output_type": "execute_result"
    }
   ],
   "source": [
    "L[1:]"
   ]
  },
  {
   "cell_type": "code",
   "execution_count": 24,
   "id": "approximate-stone",
   "metadata": {},
   "outputs": [
    {
     "data": {
      "text/plain": [
       "array([[-1,  2,  7],\n",
       "       [ 3,  5, -1],\n",
       "       [ 3,  3,  3]])"
      ]
     },
     "execution_count": 24,
     "metadata": {},
     "output_type": "execute_result"
    }
   ],
   "source": [
    "np.vstack((L, [3,3,3]))"
   ]
  },
  {
   "cell_type": "code",
   "execution_count": 25,
   "id": "killing-width",
   "metadata": {},
   "outputs": [
    {
     "data": {
      "text/plain": [
       "array([[  6,   9],\n",
       "       [  2, -18]])"
      ]
     },
     "execution_count": 25,
     "metadata": {},
     "output_type": "execute_result"
    }
   ],
   "source": [
    "M = M.reshape(3,2)\n",
    "np.dot(L, M)"
   ]
  },
  {
   "cell_type": "code",
   "execution_count": null,
   "id": "agreed-madness",
   "metadata": {},
   "outputs": [],
   "source": []
  }
 ],
 "metadata": {
  "kernelspec": {
   "display_name": "Python 3",
   "language": "python",
   "name": "python3"
  },
  "language_info": {
   "codemirror_mode": {
    "name": "ipython",
    "version": 3
   },
   "file_extension": ".py",
   "mimetype": "text/x-python",
   "name": "python",
   "nbconvert_exporter": "python",
   "pygments_lexer": "ipython3",
   "version": "3.8.5"
  }
 },
 "nbformat": 4,
 "nbformat_minor": 5
}
